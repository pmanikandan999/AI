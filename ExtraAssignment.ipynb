{
 "cells": [
  {
   "cell_type": "code",
   "execution_count": 1,
   "metadata": {},
   "outputs": [
    {
     "name": "stdout",
     "output_type": "stream",
     "text": [
      "Hope AI\n"
     ]
    }
   ],
   "source": [
    "print(\"Hope AI\")"
   ]
  },
  {
   "cell_type": "code",
   "execution_count": 4,
   "metadata": {},
   "outputs": [
    {
     "name": "stdout",
     "output_type": "stream",
     "text": [
      "Enter Your Name:Manikandan.p\n",
      "Enter Your Age:39\n",
      "Enter Your School Nmae:Hope AI\n",
      "Enter Your degree:AI\n"
     ]
    }
   ],
   "source": [
    "Name=input(\"Enter Your Name:\")\n",
    "age=int(input(\"Enter Your Age:\"))\n",
    "schoolName=input(\"Enter Your School Nmae:\")\n",
    "Degree=input(\"Enter Your degree:\")\n"
   ]
  },
  {
   "cell_type": "code",
   "execution_count": 2,
   "metadata": {},
   "outputs": [
    {
     "name": "stdout",
     "output_type": "stream",
     "text": [
      "a = 90\n",
      "b = 100\n",
      "add = 190\n"
     ]
    }
   ],
   "source": [
    "a=90\n",
    "b=100\n",
    "add=a+b\n",
    "print(\"a =\",a)\n",
    "print(\"b =\",b)\n",
    "print(\"add =\",add)"
   ]
  },
  {
   "cell_type": "code",
   "execution_count": 3,
   "metadata": {},
   "outputs": [
    {
     "name": "stdout",
     "output_type": "stream",
     "text": [
      "Num1= 7000\n",
      "num2 = 9000\n",
      "Sub = -2000\n"
     ]
    }
   ],
   "source": [
    "#subtration\n",
    "num1=7000\n",
    "num2=9000\n",
    "sub=num1-num2\n",
    "print(\"Num1=\",num1)\n",
    "print(\"num2 =\",num2)\n",
    "print(\"Sub =\",sub)"
   ]
  },
  {
   "cell_type": "code",
   "execution_count": 5,
   "metadata": {},
   "outputs": [
    {
     "name": "stdout",
     "output_type": "stream",
     "text": [
      "Num1 = 89\n",
      "Num2 = 96\n",
      "Mul = 8544\n"
     ]
    }
   ],
   "source": [
    "#multiplication\n",
    "num1=89\n",
    "num2=96\n",
    "mul=num2*num1\n",
    "print(\"Num1 =\",num1)\n",
    "print(\"Num2 =\",num2)\n",
    "print(\"Mul =\",mul)"
   ]
  },
  {
   "cell_type": "code",
   "execution_count": 11,
   "metadata": {},
   "outputs": [
    {
     "name": "stdout",
     "output_type": "stream",
     "text": [
      "num1 = 10000\n",
      "num2 = 1500\n",
      "float div = 6.666666666666667\n"
     ]
    }
   ],
   "source": [
    "#division\n",
    "num1=10000\n",
    "num2=1500\n",
    "div = num1/num2\n",
    "print(\"num1 =\",num1)\n",
    "print(\"num2 =\",num2)\n",
    "print(\"float div =\",float(div))"
   ]
  },
  {
   "cell_type": "code",
   "execution_count": 13,
   "metadata": {},
   "outputs": [
    {
     "name": "stdout",
     "output_type": "stream",
     "text": [
      "num1 = 10000\n",
      "num2 = 1500\n",
      "floor div = 6\n"
     ]
    }
   ],
   "source": [
    "# floor division\n",
    "num1=10000\n",
    "num2=1500\n",
    "div = num1//num2\n",
    "print(\"num1 =\",num1)\n",
    "print(\"num2 =\",num2)\n",
    "print(\"floor div =\",div)"
   ]
  },
  {
   "cell_type": "code",
   "execution_count": 15,
   "metadata": {},
   "outputs": [
    {
     "name": "stdout",
     "output_type": "stream",
     "text": [
      "num1 = 10000\n",
      "num2 = 1500\n",
      "modulo div = 1000\n"
     ]
    }
   ],
   "source": [
    "#modulo\n",
    "num1=10000\n",
    "num2=1500\n",
    "modulo = num1%num2\n",
    "print(\"num1 =\",num1)\n",
    "print(\"num2 =\",num2)\n",
    "print(\"modulo div =\",modulo)"
   ]
  },
  {
   "cell_type": "code",
   "execution_count": 16,
   "metadata": {},
   "outputs": [
    {
     "name": "stdout",
     "output_type": "stream",
     "text": [
      "num1 = 10000\n",
      "num2 = 1500\n",
      "pow  = 6\n"
     ]
    }
   ],
   "source": [
    "#power\n",
    "num1=10000\n",
    "num2=1500\n",
    "power = num1**num2\n",
    "print(\"num1 =\",num1)\n",
    "print(\"num2 =\",num2)\n",
    "print(\"pow  =\",div)"
   ]
  },
  {
   "cell_type": "code",
   "execution_count": null,
   "metadata": {},
   "outputs": [],
   "source": []
  }
 ],
 "metadata": {
  "kernelspec": {
   "display_name": "Python 3",
   "language": "python",
   "name": "python3"
  },
  "language_info": {
   "codemirror_mode": {
    "name": "ipython",
    "version": 3
   },
   "file_extension": ".py",
   "mimetype": "text/x-python",
   "name": "python",
   "nbconvert_exporter": "python",
   "pygments_lexer": "ipython3",
   "version": "3.7.4"
  }
 },
 "nbformat": 4,
 "nbformat_minor": 2
}
